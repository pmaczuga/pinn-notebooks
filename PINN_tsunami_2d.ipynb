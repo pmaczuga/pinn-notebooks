{
  "cells": [
    {
      "cell_type": "code",
      "execution_count": null,
      "metadata": {
        "id": "b_9CqiNW5lPg"
      },
      "outputs": [],
      "source": [
        "## Pawel Maczuga and Maciej Paszynski 2023\n",
        "\n",
        "from typing import Callable\n",
        "import matplotlib.pyplot as plt\n",
        "import numpy as np\n",
        "import torch\n",
        "from torch import nn\n",
        "import matplotlib.pyplot as plt\n",
        "from matplotlib.animation import FuncAnimation\n",
        "from functools import partial\n",
        "# from google.colab import files\n",
        "import time\n",
        "import os\n",
        "from typing import Tuple\n",
        "device = torch.device(\"cuda\" if torch.cuda.is_available() else \"cpu\")\n",
        "device"
      ]
    },
    {
      "cell_type": "code",
      "source": [
        "## Parameters\n",
        "# LENGTH = 1. # Domain size in x axis. Always starts at 0\n",
        "LENGTH = 2. # Domain size in x axis. Always starts at 0\n",
        "# TOTAL_TIME = .3 # Domain size in t axis. Always starts at 0\n",
        "TOTAL_TIME = .5 # Domain size in t axis. Always starts at 0\n",
        "N_POINTS = 15 # Number of in single asxis\n",
        "N_POINTS_PLOT = 150 # Number of points in single axis used in plotting\n",
        "WEIGHT_RESIDUAL = 0.03 # Weight of residual part of loss function\n",
        "WEIGHT_INITIAL = 1.0 # Weight of initial part of loss function\n",
        "WEIGHT_BOUNDARY = 0.0005 # Weight of boundary part of loss function\n",
        "# LAYERS = 4\n",
        "LAYERS = 10\n",
        "# NEURONS_PER_LAYER = 80\n",
        "NEURONS_PER_LAYER = 120\n",
        "EPOCHS = 150_000\n",
        "# LEARNING_RATE = 0.002\n",
        "LEARNING_RATE = 0.00015\n",
        "GRAVITY=9.81"
      ],
      "metadata": {
        "id": "yRUNbvoDoDU9"
      },
      "execution_count": null,
      "outputs": []
    },
    {
      "cell_type": "code",
      "execution_count": null,
      "metadata": {
        "id": "iO0Bk6pp5-oz"
      },
      "outputs": [],
      "source": [
        "class PINN(nn.Module):\n",
        "    \"\"\"Simple neural network accepting two features as input and returning a single output\n",
        "\n",
        "    In the context of PINNs, the neural network is used as universal function approximator\n",
        "    to approximate the solution of the differential equation\n",
        "    \"\"\"\n",
        "    def __init__(self, num_hidden: int, dim_hidden: int, act=nn.Tanh()):\n",
        "\n",
        "        super().__init__()\n",
        "\n",
        "        self.layer_in = nn.Linear(3, dim_hidden)\n",
        "        self.layer_out = nn.Linear(dim_hidden, 1)\n",
        "\n",
        "        num_middle = num_hidden - 1\n",
        "        self.middle_layers = nn.ModuleList(\n",
        "            [nn.Linear(dim_hidden, dim_hidden) for _ in range(num_middle)]\n",
        "        )\n",
        "        self.act = act\n",
        "\n",
        "    def forward(self, x, y, t):\n",
        "\n",
        "        x_stack = torch.cat([x, y, t], dim=1)\n",
        "        out = self.act(self.layer_in(x_stack))\n",
        "        for layer in self.middle_layers:\n",
        "            out = self.act(layer(out))\n",
        "        logits = self.layer_out(out)\n",
        "\n",
        "        return logits\n",
        "\n",
        "    def device(self):\n",
        "        return next(self.parameters()).device\n",
        "\n",
        "\n",
        "def f(pinn: PINN, x: torch.Tensor, y: torch.Tensor, t: torch.Tensor) -> torch.Tensor:\n",
        "    \"\"\"Compute the value of the approximate solution from the NN model\"\"\"\n",
        "    return pinn(x, y, t)\n",
        "\n",
        "\n",
        "def df(output: torch.Tensor, input: torch.Tensor, order: int = 1) -> torch.Tensor:\n",
        "    \"\"\"Compute neural network derivative with respect to input features using PyTorch autograd engine\"\"\"\n",
        "    df_value = output\n",
        "    for _ in range(order):\n",
        "        df_value = torch.autograd.grad(\n",
        "            df_value,\n",
        "            input,\n",
        "            grad_outputs=torch.ones_like(input),\n",
        "            create_graph=True,\n",
        "            retain_graph=True,\n",
        "        )[0]\n",
        "\n",
        "    return df_value\n",
        "\n",
        "\n",
        "def dfdt(pinn: PINN, x: torch.Tensor, y: torch.Tensor, t: torch.Tensor, order: int = 1):\n",
        "    f_value = f(pinn, x, y, t)\n",
        "    return df(f_value, t, order=order)\n",
        "\n",
        "\n",
        "def dfdx(pinn: PINN, x: torch.Tensor, y: torch.Tensor, t: torch.Tensor, order: int = 1):\n",
        "    f_value = f(pinn, x, y, t)\n",
        "    return df(f_value, x, order=order)\n",
        "\n",
        "def dfdy(pinn: PINN, x: torch.Tensor, y: torch.Tensor, t: torch.Tensor, order: int = 1):\n",
        "    f_value = f(pinn, x, y, t)\n",
        "    return df(f_value, y, order=order)"
      ]
    },
    {
      "cell_type": "markdown",
      "metadata": {
        "id": "FPaX88HM6bTH"
      },
      "source": [
        "## Loss function"
      ]
    },
    {
      "cell_type": "code",
      "execution_count": null,
      "metadata": {
        "id": "j4ScZDgu40Xw"
      },
      "outputs": [],
      "source": [
        "def get_boundary_points(x_domain, y_domain, t_domain, n_points, device = torch.device(\"cpu\"), requires_grad=True):\n",
        "    \"\"\"\n",
        "         .+------+\n",
        "       .' |    .'|\n",
        "      +---+--+'  |\n",
        "      |   |  |   |\n",
        "    y |  ,+--+---+\n",
        "      |.'    | .' t\n",
        "      +------+'\n",
        "         x\n",
        "    \"\"\"\n",
        "    x_linspace = torch.linspace(x_domain[0], x_domain[1], n_points)\n",
        "    y_linspace = torch.linspace(y_domain[0], y_domain[1], n_points)\n",
        "    t_linspace = torch.linspace(t_domain[0], t_domain[1], n_points)\n",
        "\n",
        "    x_grid, t_grid = torch.meshgrid( x_linspace, t_linspace, indexing=\"ij\")\n",
        "    y_grid, _      = torch.meshgrid( y_linspace, t_linspace, indexing=\"ij\")\n",
        "\n",
        "    x_grid = x_grid.reshape(-1, 1).to(device)\n",
        "    x_grid.requires_grad = requires_grad\n",
        "    y_grid = y_grid.reshape(-1, 1).to(device)\n",
        "    y_grid.requires_grad = requires_grad\n",
        "    t_grid = t_grid.reshape(-1, 1).to(device)\n",
        "    t_grid.requires_grad = requires_grad\n",
        "\n",
        "    x0 = torch.full_like(t_grid, x_domain[0], requires_grad=requires_grad)\n",
        "    x1 = torch.full_like(t_grid, x_domain[1], requires_grad=requires_grad)\n",
        "    y0 = torch.full_like(t_grid, y_domain[0], requires_grad=requires_grad)\n",
        "    y1 = torch.full_like(t_grid, y_domain[1], requires_grad=requires_grad)\n",
        "\n",
        "    down    = (x_grid, y0,     t_grid)\n",
        "    up      = (x_grid, y1,     t_grid)\n",
        "    left    = (x0,     y_grid, t_grid)\n",
        "    right   = (x1,     y_grid, t_grid)\n",
        "\n",
        "    return down, up, left, right"
      ]
    },
    {
      "cell_type": "code",
      "execution_count": null,
      "metadata": {
        "id": "W4XJYPIhfsJG"
      },
      "outputs": [],
      "source": [
        "def get_initial_points(x_domain, y_domain, t_domain, n_points, device = torch.device(\"cpu\"), requires_grad=True):\n",
        "    x_linspace = torch.linspace(x_domain[0], x_domain[1], n_points)\n",
        "    y_linspace = torch.linspace(y_domain[0], y_domain[1], n_points)\n",
        "    x_grid, y_grid = torch.meshgrid( x_linspace, y_linspace, indexing=\"ij\")\n",
        "    x_grid = x_grid.reshape(-1, 1).to(device)\n",
        "    x_grid.requires_grad = requires_grad\n",
        "    y_grid = y_grid.reshape(-1, 1).to(device)\n",
        "    y_grid.requires_grad = requires_grad\n",
        "    t0 = torch.full_like(x_grid, t_domain[0], requires_grad=requires_grad)\n",
        "    return (x_grid, y_grid, t0)"
      ]
    },
    {
      "cell_type": "code",
      "execution_count": null,
      "metadata": {
        "id": "EILfWcA3nX3O"
      },
      "outputs": [],
      "source": [
        "def get_interior_points(x_domain, y_domain, t_domain, n_points, device = torch.device(\"cpu\"), requires_grad=True):\n",
        "    x_raw = torch.linspace(x_domain[0], x_domain[1], steps=n_points, requires_grad=requires_grad)\n",
        "    y_raw = torch.linspace(y_domain[0], y_domain[1], steps=n_points, requires_grad=requires_grad)\n",
        "    t_raw = torch.linspace(t_domain[0], t_domain[1], steps=n_points, requires_grad=requires_grad)\n",
        "    grids = torch.meshgrid(x_raw, y_raw, t_raw, indexing=\"ij\")\n",
        "\n",
        "    #W tym miejscu wczytujemy punkty z pliku siatki\n",
        "    # Czy moglbys napisac tutaj wczytywanie punktow z pliku siatki\n",
        "    x = grids[0].reshape(-1, 1).to(device)\n",
        "    y = grids[1].reshape(-1, 1).to(device)\n",
        "    t = grids[2].reshape(-1, 1).to(device)\n",
        "\n",
        "    return x, y, t"
      ]
    },
    {
      "cell_type": "code",
      "execution_count": null,
      "metadata": {
        "id": "ncSFOeJ86jEC"
      },
      "outputs": [],
      "source": [
        "class Loss:\n",
        "    def __init__(\n",
        "        self,\n",
        "        x_domain: Tuple[float, float],\n",
        "        y_domain: Tuple[float, float],\n",
        "        t_domain: Tuple[float, float],\n",
        "        n_points: int,\n",
        "        initial_condition: Callable,\n",
        "        floor: Callable,\n",
        "        weight_r: float = 1.0,\n",
        "        weight_b: float = 1.0,\n",
        "        weight_i: float = 1.0,\n",
        "        verbose: bool = False,\n",
        "    ):\n",
        "        self.x_domain = x_domain\n",
        "        self.y_domain = y_domain\n",
        "        self.t_domain = t_domain\n",
        "        self.n_points = n_points\n",
        "        self.initial_condition = initial_condition\n",
        "        self.floor = floor\n",
        "        self.weight_r = weight_r\n",
        "        self.weight_b = weight_b\n",
        "        self.weight_i = weight_i\n",
        "\n",
        "    def residual_loss(self, pinn: PINN):\n",
        "        x, y, t = get_interior_points(self.x_domain, self.y_domain, self.t_domain, self.n_points, pinn.device())\n",
        "        u = f(pinn, x, y, t)\n",
        "        z = self.floor(x, y)\n",
        "        loss = dfdt(pinn, x, y, t, order=2) - \\\n",
        "                      GRAVITY * ( dfdx(pinn, x, y, t) ** 2 + \\\n",
        "                      (u-z) * dfdx(pinn, x, y, t, order=2) + \\\n",
        "                      dfdy(pinn, x, y, t) ** 2 + \\\n",
        "                      (u-z) * dfdy(pinn, x, y, t, order=2)\n",
        "                      )\n",
        "        return loss.pow(2).mean()\n",
        "\n",
        "    def initial_loss(self, pinn: PINN):\n",
        "        x, y, t = get_initial_points(self.x_domain, self.y_domain, self.t_domain, self.n_points, pinn.device())\n",
        "        pinn_init = self.initial_condition(x, y)\n",
        "        loss = f(pinn, x, y, t) - pinn_init\n",
        "        return loss.pow(2).mean()\n",
        "\n",
        "    def boundary_loss(self, pinn: PINN):\n",
        "        down, up, left, right = get_boundary_points(self.x_domain, self.y_domain, self.t_domain, self.n_points, pinn.device())\n",
        "        x_down,  y_down,  t_down    = down\n",
        "        x_up,    y_up,    t_up      = up\n",
        "        x_left,  y_left,  t_left    = left\n",
        "        x_right, y_right, t_right   = right\n",
        "\n",
        "        loss_down  = dfdy( pinn, x_down,  y_down,  t_down  )\n",
        "        loss_up    = dfdy( pinn, x_up,    y_up,    t_up    )\n",
        "        loss_left  = dfdx( pinn, x_left,  y_left,  t_left  )\n",
        "        loss_right = dfdx( pinn, x_right, y_right, t_right )\n",
        "\n",
        "        return loss_down.pow(2).mean()  + \\\n",
        "            loss_up.pow(2).mean()    + \\\n",
        "            loss_left.pow(2).mean()  + \\\n",
        "            loss_right.pow(2).mean()\n",
        "\n",
        "    def verbose(self, pinn: PINN, only_initial=False):\n",
        "        \"\"\"\n",
        "        Returns all parts of the loss function\n",
        "\n",
        "        Not used during training! Only for checking the results later.\n",
        "        \"\"\"\n",
        "        residual_loss = self.residual_loss(pinn)\n",
        "        initial_loss = self.initial_loss(pinn)\n",
        "        boundary_loss = self.boundary_loss(pinn)\n",
        "\n",
        "        final_loss = \\\n",
        "            self.weight_r * residual_loss + \\\n",
        "            self.weight_i * initial_loss + \\\n",
        "            self.weight_b * boundary_loss\n",
        "\n",
        "        if only_initial:\n",
        "          final_loss = \\\n",
        "            self.weight_r * residual_loss + \\\n",
        "            self.weight_i * initial_loss + \\\n",
        "            self.weight_b * boundary_loss # 5, 1000 i 1?, 0.0005\n",
        "\n",
        "        return final_loss, residual_loss, initial_loss, boundary_loss\n",
        "\n",
        "    def __call__(self, pinn: PINN, only_initial=False):\n",
        "        \"\"\"\n",
        "        Allows you to use instance of this class as if it was a function:\n",
        "\n",
        "        ```\n",
        "            >>> loss = Loss(*some_args)\n",
        "            >>> calculated_loss = loss(pinn)\n",
        "        ```\n",
        "        \"\"\"\n",
        "        return self.verbose(pinn, only_initial)"
      ]
    },
    {
      "cell_type": "markdown",
      "metadata": {
        "id": "R_EhvAmB-HsO"
      },
      "source": [
        "## Train function"
      ]
    },
    {
      "cell_type": "code",
      "execution_count": null,
      "metadata": {
        "id": "gO-8FhOHxFIz"
      },
      "outputs": [],
      "source": [
        "def train_model(\n",
        "    nn_approximator: PINN,\n",
        "    loss_fn: Callable,\n",
        "    learning_rate: int = 0.01,\n",
        "    max_epochs: int = 1_000\n",
        ") -> PINN:\n",
        "\n",
        "    optimizer = torch.optim.Adam(nn_approximator.parameters(), lr=learning_rate)\n",
        "    loss_values = []\n",
        "    residual_loss_values = []\n",
        "    initial_loss_values = []\n",
        "    boundary_loss_values = []\n",
        "\n",
        "    start_time = time.time()\n",
        "\n",
        "    for epoch in range(max_epochs):\n",
        "\n",
        "        try:\n",
        "\n",
        "            loss: torch.Tensor = loss_fn(nn_approximator)\n",
        "            optimizer.zero_grad()\n",
        "            loss[0].backward()\n",
        "            optimizer.step()\n",
        "\n",
        "            loss_values.append(loss[0].item())\n",
        "            residual_loss_values.append(loss[1].item())\n",
        "            initial_loss_values.append(loss[2].item())\n",
        "            boundary_loss_values.append(loss[3].item())\n",
        "            if (epoch + 1) % 1000 == 0:\n",
        "                epoch_time = time.time() - start_time\n",
        "                start_time = time.time()\n",
        "\n",
        "                print(f\"Epoch: {epoch + 1} - Loss: {float(loss[0].item()):>7f}, Residual Loss: {float(loss[1].item()):>7f}, Initital Loss: {float(loss[2].item()):>7f}, Boundary Loss: {float(loss[3].item()):>7f}\")\n",
        "\n",
        "        except KeyboardInterrupt:\n",
        "            break\n",
        "\n",
        "    return nn_approximator, np.array(loss_values), np.array(residual_loss_values), np.array(initial_loss_values), np.array(boundary_loss_values)\n"
      ]
    },
    {
      "cell_type": "markdown",
      "metadata": {
        "id": "Y8eSnk_w-N7C"
      },
      "source": [
        "## Plotting functions"
      ]
    },
    {
      "cell_type": "code",
      "execution_count": null,
      "metadata": {
        "id": "urMGVRla-P3q"
      },
      "outputs": [],
      "source": [
        "def plot_solution(pinn: PINN, x: torch.Tensor, t: torch.Tensor, figsize=(8, 6), dpi=100):\n",
        "\n",
        "    fig, ax = plt.subplots(figsize=figsize, dpi=dpi)\n",
        "    x_raw = torch.unique(x).reshape(-1, 1)\n",
        "    t_raw = torch.unique(t)\n",
        "\n",
        "    def animate(i):\n",
        "\n",
        "        if not i % 10 == 0:\n",
        "            t_partial = torch.ones_like(x_raw) * t_raw[i]\n",
        "            f_final = f(pinn, x_raw, t_partial)\n",
        "            ax.clear()\n",
        "            ax.plot(\n",
        "                x_raw.detach().numpy(), f_final.detach().numpy(), label=f\"Time {float(t[i])}\"\n",
        "            )\n",
        "            ax.set_ylim(-1, 1)\n",
        "            ax.legend()\n",
        "\n",
        "    n_frames = t_raw.shape[0]\n",
        "    return FuncAnimation(fig, animate, frames=n_frames, interval=100, repeat=False)\n",
        "\n",
        "def plot_color(z: torch.Tensor, x: torch.Tensor, y: torch.Tensor, n_points_x, n_points_t, title, figsize=(8, 6), dpi=100, cmap=\"viridis\"):\n",
        "    fig, ax = plt.subplots(figsize=figsize, dpi=dpi)\n",
        "    z_raw = z.detach().cpu().numpy()\n",
        "    x_raw = x.detach().cpu().numpy()\n",
        "    y_raw = y.detach().cpu().numpy()\n",
        "    X = x_raw.reshape(n_points_x, n_points_t)\n",
        "    Y = y_raw.reshape(n_points_x, n_points_t)\n",
        "    Z = z_raw.reshape(n_points_x, n_points_t)\n",
        "    ax.set_title(title)\n",
        "    ax.set_xlabel(\"x\")\n",
        "    ax.set_ylabel(\"y\")\n",
        "    c = ax.pcolormesh(X, Y, Z, cmap=cmap)\n",
        "    fig.colorbar(c, ax=ax)\n",
        "\n",
        "    return fig\n",
        "\n",
        "def plot_3D(z: torch.Tensor, x: torch.Tensor, y: torch.Tensor, n_points_x, n_points_t, title, figsize=(8, 6), dpi=100, limit=0.2):\n",
        "    fig = plt.figure(figsize=figsize)\n",
        "    ax = fig.add_subplot(projection='3d')\n",
        "    z_raw = z.detach().cpu().numpy()\n",
        "    x_raw = x.detach().cpu().numpy()\n",
        "    y_raw = y.detach().cpu().numpy()\n",
        "    X = x_raw.reshape(n_points_x, n_points_t)\n",
        "    Y = y_raw.reshape(n_points_x, n_points_t)\n",
        "    Z = z_raw.reshape(n_points_x, n_points_t)\n",
        "    ax.set_title(title)\n",
        "    ax.set_xlabel(\"x\")\n",
        "    ax.set_ylabel(\"y\")\n",
        "    ax.axes.set_zlim3d(bottom=-limit, top=limit)\n",
        "\n",
        "    c = ax.plot_surface(X, Y, Z)\n",
        "\n",
        "    x_floor = torch.linspace(0.0, LENGTH, 50)\n",
        "    y_floor = torch.linspace(0.0, LENGTH, 50)\n",
        "    z_floor = torch.zeros((50, 50))\n",
        "    for x_idx, x_coord in enumerate(x_floor):\n",
        "        for y_idx, y_coord in enumerate(y_floor):\n",
        "            z_floor[x_idx, y_idx] = floor(x_coord, y_coord)\n",
        "    x_floor = torch.tile(x_floor, (50, 1))\n",
        "    y_floor = torch.tile(y_floor, (50, 1)).T\n",
        "    f = ax.plot_surface(x_floor, y_floor, z_floor, color='green', alpha=0.7)\n",
        "\n",
        "    return fig\n",
        "\n",
        "def running_average(y, window=100):\n",
        "    cumsum = np.cumsum(np.insert(y, 0, 0))\n",
        "    return (cumsum[window:] - cumsum[:-window]) / float(window)"
      ]
    },
    {
      "cell_type": "code",
      "source": [
        "# Initial condition\n",
        "def initial_condition(x: torch.Tensor, y: torch.Tensor) -> torch.Tensor:\n",
        "    r = torch.sqrt((x-LENGTH/2)**2 + (y-LENGTH/2)**2)\n",
        "    res = (r - 0.25) * (r < 0.25)\n",
        "    # res = (torch.sqrt((x-0.5)**2 + (y-0.5)**2) - 0.25)**2 * # (torch.sqrt((x-0.5)\n",
        "    res = 2 * torch.exp(-(r)**2 * 30) + 2\n",
        "    return res\n",
        "def floor(x, y):\n",
        "    \"\"\"Get the sea floor value\"\"\"\n",
        "    return 0"
      ],
      "metadata": {
        "id": "10obIY3nZypX"
      },
      "execution_count": null,
      "outputs": []
    },
    {
      "cell_type": "markdown",
      "metadata": {
        "id": "4y8UC4B2AR-X"
      },
      "source": [
        "# Running code"
      ]
    },
    {
      "cell_type": "markdown",
      "metadata": {
        "id": "cydEKxCd-W-s"
      },
      "source": [
        "## Train data"
      ]
    },
    {
      "cell_type": "code",
      "execution_count": null,
      "metadata": {
        "id": "br0hz_u9xKy4"
      },
      "outputs": [],
      "source": [
        "pinn = PINN(LAYERS, NEURONS_PER_LAYER, act=nn.Tanh()).to(device)\n",
        "\n",
        "x_domain = [0.0, LENGTH]\n",
        "y_domain = [0.0, LENGTH]\n",
        "t_domain = [0.0, TOTAL_TIME]\n",
        "\n",
        "# train the PINN\n",
        "loss_fn = Loss(\n",
        "    x_domain,\n",
        "    y_domain,\n",
        "    t_domain,\n",
        "    N_POINTS,\n",
        "    initial_condition,\n",
        "    floor,\n",
        "    WEIGHT_RESIDUAL,\n",
        "    WEIGHT_INITIAL,\n",
        "    WEIGHT_BOUNDARY\n",
        ")\n",
        "\n",
        "pinn_trained, loss_values, residual_loss_values, initial_loss_values, boundary_loss_values = train_model(\n",
        "    pinn, loss_fn=loss_fn, learning_rate=LEARNING_RATE, max_epochs=EPOCHS)\n",
        "\n",
        "pinn = pinn.cpu()\n",
        "losses = loss_fn.verbose(pinn)\n",
        "print(f'Total loss: \\t{losses[0]:.5f} ({losses[0]:.3E})')\n",
        "print(f'Interior loss: \\t{losses[1]:.5f} ({losses[1]:.3E})')\n",
        "print(f'Initial loss: \\t{losses[2]:.5f} ({losses[2]:.3E})')\n",
        "print(f'Bondary loss: \\t{losses[3]:.5f} ({losses[3]:.3E})')\n",
        "\n",
        "# Plotting\n",
        "\n",
        "# Loss function\n",
        "average_loss = running_average(loss_values, window=100)\n",
        "fig, ax = plt.subplots(figsize=(8, 6), dpi=100)\n",
        "ax.set_title(\"Loss function (runnig average)\")\n",
        "ax.set_xlabel(\"Epoch\")\n",
        "ax.set_ylabel(\"Loss\")\n",
        "ax.plot(average_loss)\n",
        "ax.set_yscale('log')\n"
      ]
    },
    {
      "cell_type": "code",
      "source": [
        "average_loss = running_average(residual_loss_values, window=100)\n",
        "fig, ax = plt.subplots(figsize=(8, 6), dpi=100)\n",
        "ax.set_title(\"Residual loss function (running average)\")\n",
        "ax.set_xlabel(\"Epoch\")\n",
        "ax.set_ylabel(\"Loss\")\n",
        "ax.plot(average_loss)\n",
        "ax.set_yscale('log')\n"
      ],
      "metadata": {
        "id": "CWgn1DG6aM9U"
      },
      "execution_count": null,
      "outputs": []
    },
    {
      "cell_type": "code",
      "source": [
        "average_loss = running_average(initial_loss_values, window=100)\n",
        "fig, ax = plt.subplots(figsize=(8, 6), dpi=100)\n",
        "ax.set_title(\"Initial loss function (running average)\")\n",
        "ax.set_xlabel(\"Epoch\")\n",
        "ax.set_ylabel(\"Loss\")\n",
        "ax.plot(average_loss)\n",
        "ax.set_yscale('log')"
      ],
      "metadata": {
        "id": "MndrmaIoaQLS"
      },
      "execution_count": null,
      "outputs": []
    },
    {
      "cell_type": "code",
      "source": [
        "average_loss = running_average(boundary_loss_values, window=100)\n",
        "fig, ax = plt.subplots(figsize=(8, 6), dpi=100)\n",
        "ax.set_title(\"Boundary loss function (running average)\")\n",
        "ax.set_xlabel(\"Epoch\")\n",
        "ax.set_ylabel(\"Loss\")\n",
        "ax.plot(average_loss)\n",
        "ax.set_yscale('log')"
      ],
      "metadata": {
        "id": "LgB0f7lVaTQS"
      },
      "execution_count": null,
      "outputs": []
    },
    {
      "cell_type": "code",
      "source": [
        "# Plotting\n",
        "# Initial condition\n",
        "base_dir = '.'\n",
        "x, y, _ = get_initial_points(x_domain, y_domain, t_domain, N_POINTS_PLOT, requires_grad=False)\n",
        "z = initial_condition(x, y)\n",
        "fig = plot_color(z, x, y, N_POINTS_PLOT, N_POINTS_PLOT, \"Initial condition - exact\")\n",
        "t_value = 0.0\n",
        "t = torch.full_like(x, t_value)\n",
        "z = pinn(x, y, t)\n",
        "fig = plot_color(z, x, y, N_POINTS_PLOT, N_POINTS_PLOT, \"Initial condition - PINN\")\n",
        "x, y, _ = get_initial_points(x_domain, y_domain, t_domain, N_POINTS_PLOT, requires_grad=False)\n",
        "z = initial_condition(x, y)\n",
        "fig = plot_3D(z, x, y, N_POINTS_PLOT, N_POINTS_PLOT, \"Initial condition - exact\")\n",
        "z = pinn(x, y ,t)\n",
        "fig = plot_3D(z, x, y, N_POINTS_PLOT, N_POINTS_PLOT, f\"Initial condition - pinn\")\n",
        "\n",
        "def plot(idx, t_value):\n",
        "    t = torch.full_like(x, t_value)\n",
        "    z = pinn(x, y, t)\n",
        "    fig = plot_color(z, x, y, N_POINTS_PLOT, N_POINTS_PLOT, f\"PINN for t = {t_value}\")\n",
        "    fig = plot_3D(z, x, y, N_POINTS_PLOT, N_POINTS_PLOT, f\"PINN for t = {t_value}\")\n",
        "    #plt.savefig(base_dir + '/img/img_{:03d}.png'.format(idx))\n",
        "\n",
        "time_values = np.arange(0, TOTAL_TIME, 0.01)\n",
        "for idx, t_val in enumerate(time_values):\n",
        "    plot(idx, t_value)\n",
        "    z = pinn(x, y, t)\n",
        "    fig = plot_color(z, x, y, N_POINTS_PLOT, N_POINTS_PLOT, f\"PINN for t = {t_value}\")\n",
        "    fig = plot_3D(z, x, y, N_POINTS_PLOT, N_POINTS_PLOT, f\"PINN for t = {t_val}\")\n",
        "    #plt.savefig(base_dir + '/img/img_{:03d}.png'.format(idx))\n",
        "\n",
        "time_values = np.arange(0, TOTAL_TIME, 0.01)\n",
        "\n",
        "for idx, t_val in enumerate(time_values):\n",
        "    plot(idx, t_val)\n"
      ],
      "metadata": {
        "id": "jUrmCP1eah7T"
      },
      "execution_count": null,
      "outputs": []
    },
    {
      "cell_type": "code",
      "source": [
        "from google.colab import drive\n",
        "drive.mount('/content/drive')"
      ],
      "metadata": {
        "id": "GVT_ZbA8a2JE"
      },
      "execution_count": null,
      "outputs": []
    },
    {
      "cell_type": "code",
      "source": [
        "import imageio\n",
        "frames = []\n",
        "for idx in range(len(time_values)):\n",
        "    image = imageio.v2.imread(base_dir + '/img/img_{:03d}.png'.format(idx))\n",
        "    frames.append(image)\n",
        "\n",
        "imageio.mimsave('./tsunami_wave12.gif', # output gif\n",
        "                frames, # array of input frames\n",
        "                duration=0.1) # optional: frames per secon"
      ],
      "metadata": {
        "id": "w9h_id-ua26C"
      },
      "execution_count": null,
      "outputs": []
    }
  ],
  "metadata": {
    "accelerator": "GPU",
    "colab": {
      "provenance": []
    },
    "gpuClass": "standard",
    "kernelspec": {
      "display_name": "Python 3",
      "name": "python3"
    },
    "language_info": {
      "name": "python"
    }
  },
  "nbformat": 4,
  "nbformat_minor": 0
}